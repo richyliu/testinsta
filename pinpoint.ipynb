{
  "nbformat": 4,
  "nbformat_minor": 0,
  "metadata": {
    "colab": {
      "name": "Pinpoint.ipynb",
      "version": "0.3.2",
      "views": {},
      "default_view": {},
      "provenance": []
    },
    "kernelspec": {
      "name": "python3",
      "display_name": "Python 3"
    }
  },
  "cells": [
    {
      "metadata": {
        "id": "hZiR4U9FA5d0",
        "colab_type": "code",
        "colab": {
          "autoexec": {
            "startup": false,
            "wait_interval": 0
          },
          "base_uri": "https://localhost:8080/",
          "height": 34
        },
        "outputId": "c41790c1-de9f-4632-bda6-f4963a15bc41",
        "executionInfo": {
          "status": "ok",
          "timestamp": 1528073430476,
          "user_tz": 420,
          "elapsed": 282,
          "user": {
            "displayName": "suraj mathashery",
            "photoUrl": "https://lh3.googleusercontent.com/a/default-user=s128",
            "userId": "115397583656986100532"
          }
        }
      },
      "cell_type": "code",
      "source": [
        "#Program should pinpoint location of someone based on multiple queries\n",
        "\n",
        "def avg(x, y):\n",
        "  return float(x+y)/2.0\n",
        "\n",
        "d = {\"east\" : 0, \"north\" :90, \"west\" : 180, \"south\" : 270}\n",
        "\n",
        "s = \"south-east\".lower().split(\"-\")\n",
        "direction = 0.0\n",
        "\n",
        "if len(s) == 3:\n",
        "  direction = (avg(d[s[1]], avg(d[s[0]], d[s[2]])))\n",
        "else:\n",
        "  for i in s:\n",
        "    direction += d[i]\n",
        "  direction /= len(s)\n",
        "\n",
        "if(direction%1==0.0):\n",
        "  print(int(direction))\n",
        "else:\n",
        "  print(direction)"
      ],
      "execution_count": 43,
      "outputs": [
        {
          "output_type": "stream",
          "text": [
            "135\n"
          ],
          "name": "stdout"
        }
      ]
    },
    {
      "metadata": {
        "id": "OYksG6E0C_kO",
        "colab_type": "code",
        "colab": {
          "autoexec": {
            "startup": false,
            "wait_interval": 0
          }
        }
      },
      "cell_type": "code",
      "source": [
        "!pip install -U googlemaps"
      ],
      "execution_count": 0,
      "outputs": []
    },
    {
      "metadata": {
        "id": "uTSzOn2qDCLf",
        "colab_type": "code",
        "colab": {
          "autoexec": {
            "startup": false,
            "wait_interval": 0
          }
        }
      },
      "cell_type": "code",
      "source": [
        "gmaps = googlemaps.Client(key='Add Your Key here')\n",
        "\n",
        "# Geocoding an address\n",
        "geocode_result = gmaps.geocode('1600 Amphitheatre Parkway, Mountain View, CA')\n",
        "\n",
        "# Look up an address with reverse geocoding\n",
        "reverse_geocode_result = gmaps.reverse_geocode((40.714224, -73.961452))\n",
        "\n",
        "# Request directions via public transit\n",
        "now = datetime.now()\n",
        "directions_result = gmaps.directions(\"Sydney Town Hall\",\n",
        "                                     \"Parramatta, NSW\",\n",
        "                                     mode=\"transit\",\n",
        "                                     departure_time=now)\n",
        "\n"
      ],
      "execution_count": 0,
      "outputs": []
    },
    {
      "metadata": {
        "id": "WfjcVw4fDI0W",
        "colab_type": "code",
        "colab": {
          "autoexec": {
            "startup": false,
            "wait_interval": 0
          },
          "base_uri": "https://localhost:8080/",
          "height": 34
        },
        "outputId": "097446a7-026a-4fb7-9291-8c72a6304ded",
        "executionInfo": {
          "status": "ok",
          "timestamp": 1528072226888,
          "user_tz": 420,
          "elapsed": 269,
          "user": {
            "displayName": "suraj mathashery",
            "photoUrl": "https://lh3.googleusercontent.com/a/default-user=s128",
            "userId": "115397583656986100532"
          }
        }
      },
      "cell_type": "code",
      "source": [
        "def intersection(x1, y1, x2, y2, x3, y3, x4, y4):\n",
        "    try:\n",
        "        slope1 = float(abs(y2 - y1))/float(abs(x2 - x1))\n",
        "        slope2 = float(abs(y4 - y3))/float(abs(x4 - x3))\n",
        "    \n",
        "        y_int1 = float(y1 - slope1 * x1)\n",
        "        y_int2 = float(y3 - slope2 * x3)\n",
        "        \n",
        "        print(slope1, slope2, y_int1, y_int2)\n",
        "      \n",
        "        x = float(y_int2 - y_int1)/float(slope1-slope2)\n",
        "        y = float(slope1 * x + y_int1)\n",
        "        \n",
        "        print(x, y)\n",
        "        \n",
        "    except:\n",
        "        if(x3==x4 and x1 != x2):\n",
        "            slope1 = float(abs(y2 - y1))/float(abs(x2 - x1))\n",
        "            \n",
        "            y_int1 = float(y1 - slope1 * x1)\n",
        "            a2 = float(y3)/float(x3)\n",
        "            \n",
        "            \n",
        "            x = float(x3)\n",
        "            y = float(slope1 * x + y_int1)\n",
        "            print(x, y)\n",
        "        elif(x1==x2):\n",
        "            slope2 = float(abs(y4 - y3))/float(abs(x4 - x3))\n",
        "            \n",
        "            y_int2 = float(y3 - slope2 * x1)\n",
        "            a1 = float(y1)/float(x1)\n",
        "            \n",
        "            \n",
        "            x = float(x1)\n",
        "            y = float(slope2 * x + y_int2)\n",
        "            print(x, y)\n",
        "        else:\n",
        "            print (\"ERROR: LINES SPECIFIED ARE PARRALLEL!\")\n",
        "    \n",
        "intersection(8, 6, 8, 8, 1, 2, 2, 2)\n",
        "\n",
        "\n"
      ],
      "execution_count": 20,
      "outputs": [
        {
          "output_type": "stream",
          "text": [
            "8.0 2.0\n"
          ],
          "name": "stdout"
        }
      ]
    },
    {
      "metadata": {
        "id": "ICCWqThaFgsY",
        "colab_type": "code",
        "colab": {
          "autoexec": {
            "startup": false,
            "wait_interval": 0
          }
        }
      },
      "cell_type": "code",
      "source": [
        ""
      ],
      "execution_count": 0,
      "outputs": []
    }
  ]
